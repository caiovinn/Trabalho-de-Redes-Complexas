{
 "cells": [
  {
   "cell_type": "code",
   "execution_count": 1,
   "metadata": {},
   "outputs": [],
   "source": [
    "# importações\n",
    "from numpy import *\n",
    "import numpy as np\n",
    "import matplotlib.pyplot as plt\n",
    "import networkx as nx\n",
    "\n",
    "from CONSTANTES import *"
   ]
  },
  {
   "cell_type": "code",
   "execution_count": 2,
   "metadata": {},
   "outputs": [
    {
     "name": "stdout",
     "output_type": "stream",
     "text": [
      "Rede Social -- twitter\n",
      "<k>: 2.809670517757809 \tN: 23370\n"
     ]
    }
   ],
   "source": [
    "# teste:\n",
    "for rede in redes_sociais.keys():\n",
    "\n",
    "    ######################################\n",
    "    # lidando com a rede social\n",
    "    ######################################\n",
    "    print('Rede Social --', rede)\n",
    "\n",
    "    G = nx.read_edgelist(\"redes/\" + redes_sociais[rede], comments='%', nodetype=int)\n",
    "    grau_medio = np.array(G.degree)[:, 1].mean()\n",
    "    N = len(G)\n",
    "    print('<k>:', grau_medio, '\\tN:', N)"
   ]
  },
  {
   "cell_type": "code",
   "execution_count": 3,
   "metadata": {},
   "outputs": [
    {
     "data": {
      "text/plain": [
       "23370"
      ]
     },
     "execution_count": 3,
     "metadata": {},
     "output_type": "execute_result"
    }
   ],
   "source": [
    "# teste de simulação:\n",
    "aux = nx.erdos_renyi_graph(N, grau_medio/(N-1), seed=42)\n",
    "len(aux)"
   ]
  }
 ],
 "metadata": {
  "kernelspec": {
   "display_name": "Python 3",
   "language": "python",
   "name": "python3"
  },
  "language_info": {
   "codemirror_mode": {
    "name": "ipython",
    "version": 3
   },
   "file_extension": ".py",
   "mimetype": "text/x-python",
   "name": "python",
   "nbconvert_exporter": "python",
   "pygments_lexer": "ipython3",
   "version": "3.8.10"
  },
  "orig_nbformat": 4
 },
 "nbformat": 4,
 "nbformat_minor": 2
}
